{
 "cells": [
  {
   "cell_type": "code",
   "execution_count": 1,
   "metadata": {},
   "outputs": [],
   "source": [
    "import numpy as np\n",
    "import cv2\n",
    "from matplotlib import pyplot as plt\n",
    "import os\n",
    "from os import listdir\n",
    "from os.path import isfile, isdir, join\n"
   ]
  },
  {
   "cell_type": "code",
   "execution_count": 2,
   "metadata": {},
   "outputs": [],
   "source": [
    "def readImg(src):\n",
    "    head = cv2.imread(src[0], cv2.IMREAD_GRAYSCALE)\n",
    "    img = np.zeros((head.shape[0], head.shape[1], 4), dtype='uint8')\n",
    "\n",
    "    img[:,:,0] = head\n",
    "    img[:,:,1] = cv2.imread(src[1], cv2.IMREAD_GRAYSCALE)\n",
    "    img[:,:,2] = cv2.imread(src[2], cv2.IMREAD_GRAYSCALE)\n",
    "    img[:,:,3] = cv2.imread(src[3], cv2.IMREAD_GRAYSCALE)\n",
    "\n",
    "    return img"
   ]
  },
  {
   "cell_type": "code",
   "execution_count": 3,
   "metadata": {},
   "outputs": [],
   "source": [
    "# Brute-Force Matching with SIFT Descriptors\n",
    "\n",
    "def SIFT(img):\n",
    "    siftDetector= cv2.xfeatures2d.SIFT_create()\n",
    "    kp, des = siftDetector.detectAndCompute(img, None)\n",
    "    return kp, des\n",
    "\n",
    "def matcher(des1, des2): \n",
    "    # create Matcher object\n",
    "    bf_matcher = cv2.BFMatcher()\n",
    "\n",
    "    # Match descriptors.\n",
    "    matches = bf_matcher.match(des1, des2, None)  #Creates a list of all matches, just like keypoints\n",
    "\n",
    "    # Sort them in the order of their distance.\n",
    "    matches = sorted(matches, key = lambda x: x.distance)\n",
    "    return matches\n",
    "\n",
    "def getHomography(matches, kp1, kp2):\n",
    "    points1 = np.zeros((len(matches), 2), dtype=np.float32)  #Prints empty array of size equal to (matches, 2)\n",
    "    points2 = np.zeros((len(matches), 2), dtype=np.float32)\n",
    "\n",
    "    for i, match in enumerate(matches):\n",
    "        points1[i, :] = kp1[match.queryIdx].pt    #gives index of the descriptor in the list of query descriptors\n",
    "        points2[i, :] = kp2[match.trainIdx].pt    #gives index of the descriptor in the list of train descriptors\n",
    "\n",
    "    #h, mask = cv2.findHomography(points2, points1, cv2.RANSAC)\n",
    "    h, mask = cv2.estimateAffinePartial2D(points2, points1)\n",
    "    return h\n",
    "\n",
    "def register(img):\n",
    "    for i in [1,2,3]:\n",
    "        # Find matching points\n",
    "        kp1, des1 = SIFT(img[:,:,0])\n",
    "        kp2, des2 = SIFT(img[:,:,i])\n",
    "        matches = matcher(des1, des2)\n",
    "\n",
    "        # Use homography\n",
    "        h = getHomography(matches, kp1, kp2)\n",
    "        height, width, channels = img.shape\n",
    "        # img[:,:,i] = cv2.warpPerspective(img[:,:,i], h, (width, height))  #Applies a perspective transformation to an image.\n",
    "        img[:,:,i] = cv2.warpAffine(img[:,:,i], h, (width, height))\n",
    "\n",
    "        # print(\"Estimated homography : \\n\",  h)\n",
    "    return img"
   ]
  },
  {
   "cell_type": "code",
   "execution_count": 4,
   "metadata": {},
   "outputs": [],
   "source": [
    "def saveImg(img, f, tPath):\n",
    "    fullpath = join(tPath, f)\n",
    "    os.mkdir(fullpath)\n",
    "    RGBpath = join(fullpath, 'RGB.tif')\n",
    "    FalseColorpath = join(fullpath, 'FalseColor.tif')\n",
    "    cv2.imwrite(RGBpath, img[:, :, :3])\n",
    "    cv2.imwrite(FalseColorpath, img[:, :, 1:4])\n",
    "    print('Image \"{}\" saved'.format(f))\n",
    "    \n",
    "def process(f): \n",
    "    dataPath = 'C:/Users/tmyda/Documents/UAV_color'\n",
    "    targetPath = 'C:/Users/tmyda/Documents/SIFT'\n",
    "    \n",
    "    fullpath = join(dataPath, f)\n",
    "    if isfile(fullpath): pass\n",
    "    elif isdir(fullpath):\n",
    "        srcImg = listdir(fullpath)\n",
    "        for index, item in enumerate(srcImg):\n",
    "            srcImg[index] = join(fullpath, item)\n",
    "        img = readImg(srcImg)\n",
    "        register(img)\n",
    "        saveImg(img, f, targetPath)\n",
    "    \n",
    "    return ''"
   ]
  },
  {
   "cell_type": "code",
   "execution_count": null,
   "metadata": {},
   "outputs": [],
   "source": [
    "if __name__ == '__main__':\n",
    "    dataPath = 'C:/Users/tmyda/Documents/UAV_color'\n",
    "    targetPath = 'C:/Users/tmyda/Documents/SIFT'\n",
    "    os.mkdir(targetPath)\n",
    "    files = listdir(dataPath)\n",
    "    \n",
    "    for f in files:\n",
    "        process(f)\n"
   ]
  },
  {
   "cell_type": "code",
   "execution_count": null,
   "metadata": {},
   "outputs": [],
   "source": []
  },
  {
   "cell_type": "code",
   "execution_count": null,
   "metadata": {},
   "outputs": [],
   "source": []
  },
  {
   "cell_type": "code",
   "execution_count": null,
   "metadata": {},
   "outputs": [],
   "source": []
  },
  {
   "cell_type": "code",
   "execution_count": null,
   "metadata": {},
   "outputs": [],
   "source": []
  }
 ],
 "metadata": {
  "kernelspec": {
   "display_name": "Python 3",
   "language": "python",
   "name": "python3"
  },
  "language_info": {
   "codemirror_mode": {
    "name": "ipython",
    "version": 3
   },
   "file_extension": ".py",
   "mimetype": "text/x-python",
   "name": "python",
   "nbconvert_exporter": "python",
   "pygments_lexer": "ipython3",
   "version": "3.7.8"
  }
 },
 "nbformat": 4,
 "nbformat_minor": 2
}
