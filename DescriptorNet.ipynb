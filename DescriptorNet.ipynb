{
 "cells": [
  {
   "cell_type": "code",
   "execution_count": 1,
   "metadata": {},
   "outputs": [
    {
     "name": "stderr",
     "output_type": "stream",
     "text": [
      "Using plaidml.keras.backend backend.\n"
     ]
    }
   ],
   "source": [
    "import numpy as np\n",
    "import cv2\n",
    "import os\n",
    "from os import listdir\n",
    "from os.path import isfile, isdir, join\n",
    "from matplotlib import pyplot as plt\n",
    "\n",
    "os.environ[\"KERAS_BACKEND\"] = \"plaidml.keras.backend\"\n",
    "import keras\n",
    "from keras.layers import Input, Dense, Conv2D, Flatten\n",
    "from keras.layers.merge import concatenate\n",
    "from keras import Model"
   ]
  },
  {
   "cell_type": "code",
   "execution_count": 2,
   "metadata": {},
   "outputs": [],
   "source": [
    "class DescriptorNet(keras.Model):\n",
    "    def __init__(self):\n",
    "        super(DescriptorNet, self).__init__()\n",
    "        # Input 1 ground truth descriptors\n",
    "        self.convA1 = Conv2D(1000, kernel_size=1, activation='relu')\n",
    "        self.convA2 = Conv2D(500, kernel_size=1, activation='relu')\n",
    "        self.convA3 = Conv2D(250, kernel_size=1, activation='relu')\n",
    "        self.convA4 = Conv2D(125, kernel_size=1, activation='relu')\n",
    "        self.convA5 = Conv2D(64, kernel_size=1, activation='relu')\n",
    "        self.convA6 = Conv2D(32, kernel_size=1, activation='relu')\n",
    "        self.convA7 = Conv2D(16, kernel_size=1, activation='relu')\n",
    "        self.flatten1 = Flatten()\n",
    "        \n",
    "        # Input 2, NIR descriptors\n",
    "        self.convB1 = Conv2D(1000, kernel_size=1, activation='relu')\n",
    "        self.convB2 = Conv2D(500, kernel_size=1, activation='relu')\n",
    "        self.convB3 = Conv2D(250, kernel_size=1, activation='relu')\n",
    "        self.convB4 = Conv2D(125, kernel_size=1, activation='relu')\n",
    "        self.convB5 = Conv2D(64, kernel_size=1, activation='relu')\n",
    "        self.convB6 = Conv2D(32, kernel_size=1, activation='relu')\n",
    "        self.convB7 = Conv2D(16, kernel_size=1, activation='relu')\n",
    "        self.flatten2 = Flatten()\n",
    "        \n",
    "        # Merge\n",
    "        self.dense1 = Dense(2048 , activation='relu')\n",
    "        self.dense2 = Dense(1024 , activation='relu')\n",
    "        self.outputs = Dense(8 , activation='linear')\n",
    "        \n",
    "    def call(self, inputs):\n",
    "        x = inputs[0]\n",
    "        \n",
    "        x = self.convA1(x)\n",
    "        x = self.convA2(x)\n",
    "        x = self.convA3(x)\n",
    "        x = self.convA4(x)\n",
    "        x = self.convA5(x)\n",
    "        x = self.convA6(x)\n",
    "        x = self.convA7(x)\n",
    "        x = self.flatten1(x)\n",
    "        \n",
    "        y = inputs[1]\n",
    "        y = self.convB1(y)\n",
    "        y = self.convB2(y)\n",
    "        y = self.convB3(y)\n",
    "        y = self.convB4(y)\n",
    "        y = self.convB5(y)\n",
    "        y = self.convB6(y)\n",
    "        y = self.convB7(y)\n",
    "        y = self.flatten2(y)\n",
    "        \n",
    "        z = concatenate([x, y])\n",
    "        \n",
    "        z = self.dense1(z)\n",
    "        z = self.dense2(z)\n",
    "        \n",
    "        return self.outputs(z)\n",
    "    \n",
    "    def model(self):\n",
    "        x = Input(shape=(1, 128, 2000))\n",
    "        y = Input(shape=(1, 128, 2000))\n",
    "        return Model(inputs=[x, y], outputs=self.call([x, y]))\n",
    "        "
   ]
  },
  {
   "cell_type": "code",
   "execution_count": 3,
   "metadata": {},
   "outputs": [
    {
     "name": "stderr",
     "output_type": "stream",
     "text": [
      "INFO:plaidml:Opening device \"opencl_amd_ellesmere.0\"\n"
     ]
    },
    {
     "name": "stdout",
     "output_type": "stream",
     "text": [
      "__________________________________________________________________________________________________\n",
      "Layer (type)                    Output Shape         Param #     Connected to                     \n",
      "==================================================================================================\n",
      "input_1 (InputLayer)            (None, 1, 128, 2000) 0                                            \n",
      "__________________________________________________________________________________________________\n",
      "input_2 (InputLayer)            (None, 1, 128, 2000) 0                                            \n",
      "__________________________________________________________________________________________________\n",
      "conv2d_1 (Conv2D)               (None, 1, 128, 1000) 2001000     input_1[0][0]                    \n",
      "__________________________________________________________________________________________________\n",
      "conv2d_8 (Conv2D)               (None, 1, 128, 1000) 2001000     input_2[0][0]                    \n",
      "__________________________________________________________________________________________________\n",
      "conv2d_2 (Conv2D)               (None, 1, 128, 500)  500500      conv2d_1[0][0]                   \n",
      "__________________________________________________________________________________________________\n",
      "conv2d_9 (Conv2D)               (None, 1, 128, 500)  500500      conv2d_8[0][0]                   \n",
      "__________________________________________________________________________________________________\n",
      "conv2d_3 (Conv2D)               (None, 1, 128, 250)  125250      conv2d_2[0][0]                   \n",
      "__________________________________________________________________________________________________\n",
      "conv2d_10 (Conv2D)              (None, 1, 128, 250)  125250      conv2d_9[0][0]                   \n",
      "__________________________________________________________________________________________________\n",
      "conv2d_4 (Conv2D)               (None, 1, 128, 125)  31375       conv2d_3[0][0]                   \n",
      "__________________________________________________________________________________________________\n",
      "conv2d_11 (Conv2D)              (None, 1, 128, 125)  31375       conv2d_10[0][0]                  \n",
      "__________________________________________________________________________________________________\n",
      "conv2d_5 (Conv2D)               (None, 1, 128, 64)   8064        conv2d_4[0][0]                   \n",
      "__________________________________________________________________________________________________\n",
      "conv2d_12 (Conv2D)              (None, 1, 128, 64)   8064        conv2d_11[0][0]                  \n",
      "__________________________________________________________________________________________________\n",
      "conv2d_6 (Conv2D)               (None, 1, 128, 32)   2080        conv2d_5[0][0]                   \n",
      "__________________________________________________________________________________________________\n",
      "conv2d_13 (Conv2D)              (None, 1, 128, 32)   2080        conv2d_12[0][0]                  \n",
      "__________________________________________________________________________________________________\n",
      "conv2d_7 (Conv2D)               (None, 1, 128, 16)   528         conv2d_6[0][0]                   \n",
      "__________________________________________________________________________________________________\n",
      "conv2d_14 (Conv2D)              (None, 1, 128, 16)   528         conv2d_13[0][0]                  \n",
      "__________________________________________________________________________________________________\n",
      "flatten_1 (Flatten)             (None, 2048)         0           conv2d_7[0][0]                   \n",
      "__________________________________________________________________________________________________\n",
      "flatten_2 (Flatten)             (None, 2048)         0           conv2d_14[0][0]                  \n",
      "__________________________________________________________________________________________________\n",
      "concatenate_1 (Concatenate)     (None, 4096)         0           flatten_1[0][0]                  \n",
      "                                                                 flatten_2[0][0]                  \n",
      "__________________________________________________________________________________________________\n",
      "dense_1 (Dense)                 (None, 2048)         8390656     concatenate_1[0][0]              \n",
      "__________________________________________________________________________________________________\n",
      "dense_2 (Dense)                 (None, 1024)         2098176     dense_1[0][0]                    \n",
      "__________________________________________________________________________________________________\n",
      "dense_3 (Dense)                 (None, 8)            8200        dense_2[0][0]                    \n",
      "==================================================================================================\n",
      "Total params: 15,834,626\n",
      "Trainable params: 15,834,626\n",
      "Non-trainable params: 0\n",
      "__________________________________________________________________________________________________\n"
     ]
    }
   ],
   "source": [
    "DescriptorNet().model().summary()"
   ]
  },
  {
   "cell_type": "code",
   "execution_count": null,
   "metadata": {},
   "outputs": [],
   "source": []
  }
 ],
 "metadata": {
  "kernelspec": {
   "display_name": "Python 3",
   "language": "python",
   "name": "python3"
  },
  "language_info": {
   "codemirror_mode": {
    "name": "ipython",
    "version": 3
   },
   "file_extension": ".py",
   "mimetype": "text/x-python",
   "name": "python",
   "nbconvert_exporter": "python",
   "pygments_lexer": "ipython3",
   "version": "3.7.8"
  }
 },
 "nbformat": 4,
 "nbformat_minor": 4
}
